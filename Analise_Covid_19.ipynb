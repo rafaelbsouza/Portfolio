{
  "nbformat": 4,
  "nbformat_minor": 0,
  "metadata": {
    "colab": {
      "name": "Analise Covid-19.ipynb",
      "provenance": [],
      "collapsed_sections": [],
      "mount_file_id": "1YduCextEFet6um-r57oaaP-5N4An5hTL",
      "authorship_tag": "ABX9TyMQVEMrExORICTt/3BGd/XP",
      "include_colab_link": true
    },
    "kernelspec": {
      "name": "python3",
      "display_name": "Python 3"
    }
  },
  "cells": [
    {
      "cell_type": "markdown",
      "metadata": {
        "id": "view-in-github",
        "colab_type": "text"
      },
      "source": [
        "<a href=\"https://colab.research.google.com/github/rafaelbsouza/Portfolio/blob/master/Analise_Covid_19.ipynb\" target=\"_parent\"><img src=\"https://colab.research.google.com/assets/colab-badge.svg\" alt=\"Open In Colab\"/></a>"
      ]
    },
    {
      "cell_type": "markdown",
      "metadata": {
        "id": "Hldp7LDdAEbv",
        "colab_type": "text"
      },
      "source": [
        "*by [Rafael Souza](https://www.linkedin.com/in/rbssouza)*\n",
        "\n",
        "---"
      ]
    },
    {
      "cell_type": "markdown",
      "metadata": {
        "id": "cS68pOEZBJvx",
        "colab_type": "text"
      },
      "source": [
        "# Coronavírus: Um Panoramo no Brasil e no Mundo\n",
        "\n",
        "<center><img alt=\"Imagem: Corona Borealis Studio/Shutterstock.com\" width=\"80%\" src=\"https://socgastro.org.br/novo/wp-content/uploads/2020/06/covid_dados.jpg\"></center>\n",
        "\n",
        ">>> Imagem: Corona Borealis Studio/Shutterstock.com\n",
        "\n",
        "A COVID-19 é uma doença causada pelo coronavírus **SARS-CoV-2**, que apresenta um quadro clínico que varia de infecções assintomáticas a quadros respiratórios graves. De acordo com a Organização Mundial de Saúde (OMS), a maioria dos pacientes com COVID-19 (cerca de 80%) podem ser assintomáticos e cerca de 20% dos casos podem requerer atendimento hospitalar por apresentarem dificuldade respiratória e desses casos aproximadamente 5% podem necessitar de suporte para o tratamento de insuficiência respiratória (suporte ventilatório).\n",
        "\n",
        "Neste projeto, compararemos a situação atual do Coronavírus no Brasil e no Mundo.\n",
        "\n"
      ]
    },
    {
      "cell_type": "markdown",
      "metadata": {
        "id": "zgATA0tDIuC5",
        "colab_type": "text"
      },
      "source": [
        "## Obtenção dos Dados\n",
        "Atualmente, um dos assuntos mais comentados no Brasil e no mundo é o **Coronavírus**. Diariamente somos bombardeados com uma avalanche de informações referente a situação da Covid-19. Os dados apresentados nem sempre possuem uma mesma fonte, sendo coletados dos mais diversos órgãos e instituições que realizam esses controles estatisticos. \n",
        "\n",
        "Neste projeto, analisaremos os dados disponibilizados e atualizados pela [**Our World in Data**](https://ourworldindata.org), que tem tem como foco principal atuar nas seguintes vertentes: *doenças, fome, alterações climáticas, guerra, desigualdade, etc*.\n",
        "\n",
        "Os dados são atualizados diariamente e utilizaremos uma cópia com as informações desde o inicio desta pandemia até o dia **29/06/2020**"
      ]
    },
    {
      "cell_type": "markdown",
      "metadata": {
        "id": "38YEL7KSTuuX",
        "colab_type": "text"
      },
      "source": [
        "### Importando os dados\n",
        "\n",
        "Antes de iniciar a nossa análise inicial dos dados, realizaremos a importação dos dados e dos pacotes que utilizaremos nesse projeto. "
      ]
    },
    {
      "cell_type": "code",
      "metadata": {
        "id": "xr9dcHTWBPTH",
        "colab_type": "code",
        "colab": {}
      },
      "source": [
        "#importando os pacotes necessários\n",
        "!pip install pywaffle -q\n",
        "import pandas as pd\n",
        "import matplotlib.pyplot as plt\n",
        "from pywaffle import Waffle\n",
        "import seaborn as sns\n",
        "\n",
        "#importar o dataset para um dataframe\n",
        "covid = pd.read_csv('https://raw.githubusercontent.com/rafaelbsouza/datasets/master/Covid19/owid-covid-data.csv')\n"
      ],
      "execution_count": null,
      "outputs": []
    },
    {
      "cell_type": "markdown",
      "metadata": {
        "id": "skmTBh4g8ANF",
        "colab_type": "text"
      },
      "source": [
        "## Análise Inicial dos Dados\n",
        "Para essa análise inicial iremos: \n",
        "1.   Construir o dicionário dos dados\n",
        "2.   Descobrir o tamanho do DataFrame\n",
        "3.   Visualizar os 5 primeiros registros do nosso DataFrame\n",
        "4.   Identificar a porcentagem de valores ausentes"
      ]
    },
    {
      "cell_type": "markdown",
      "metadata": {
        "id": "zc8YBp8o8FXM",
        "colab_type": "text"
      },
      "source": [
        "###**Dicionário de Variáveis**\n",
        "\n",
        "* **iso_code**                          \t-\tCódigo do País com 3 Letras\n",
        "* **continent** \t-\tContinente\n",
        "* **location** - \tLocalização Geográfica (País)\n",
        "\n",
        "* **date**                    \t-\t  Data da Observação\t\t\n",
        "* **total_cases**              \t-\t  Total de casos confirmados de COVID-19\t\t\n",
        "* **new_cases**                    \t-\t  Novos casos de COVID-19\t\t\n",
        "* **total_deaths**       \t-\tTotal de Mortes por COVID-19\t\t\n",
        "* **new_deaths**                    \t-\t  Novas Mortes de COVID-19\n",
        "* **total_cases_per_million**             \t- Total de casos confirmados por 1 milhão de habitantes\n",
        "* **new_cases_per_million**                 -\tNovos casos confirmados por 1 milhão de habitantes\n",
        "\n",
        "* **total_deaths_per_million**                   \t- Total de mortes por COVID-19 por milhão de habitantes\n",
        "* **new_deaths_per_million**            \t-\t  Novas mortes por COVID-19 por milhão de habitantes \n",
        "\n",
        "* **total_tests**                \t-\t  Total de testes realziados \t\t\n",
        "* **new_tests**              \t-\t  Novos testes realizados \t\t\n",
        "* **new_tests_smoothed**                 \t- Novos testes Realizados (Período 7 dias)\t\t\n",
        "* **total_tests_per_thousand**                   \t-\t  Total de testes realziados por mil habitantes\t\t\n",
        "* **new_tests_per_thousand**              \t-\t  Total de novos testes por mil habitantes \t\n",
        "* **new_tests_smoothed_per_thousand**             \t- Novos testes Realizados por mil habitantes(Período 7 dias)\t\t\n",
        "* **tests_units**                   \t-\t  Quantidades unitárias de testes por localidade (País)\t\n",
        "* **stringency_index**           \t-\t  indice de rigor (0 até 100 quanto maior o indice mais rigorosas foram as medidas)  \t\n",
        "* **population**                 \t-\t  População em 2020\t\t\n",
        "* **population_density**          \t-\t  Densidade populacional (Total de habitantes por quilometro quadrado)\t\t\n",
        "* **median_age**              \t-\tIdade média da população (Projeção Nações Unidas - 2020 )\t\t\n",
        "* **aged_65_older**               \t-\tParcela da população igual ou maior que 65 anos\n",
        "* **aged_70_older**                 \t-\tParcela da população igual ou maior que 70 anos\t\t\n",
        "* **gdp_per_capita**                  \t-\tPIB - Produto Interno Bruto\n",
        "\n",
        "* **extreme_poverty**                \t-\tParcela da população vivendo em extrema pobreza\t\t\n",
        "* **cvd_death_rate**              \t-\tTaxa de mortalidade por doenças cardiovasculares em 2017\t\t\n",
        "* **diabetes_prevalence**                \t-\tPrevalência de diabetes (% da população entre 20 e 79 anos) em 2017\t\t\n",
        "* **female_smokers**                 \t-\tParcela feminina da população fumante\t\t\n",
        "* **handwashing_facilities**               \t-\tParcela da população com instações de higiene pessoal básica (lavar as mãos)\n",
        "* **hospital_beds_per_thousand**                 \t-\tNúmero de leitos de hospital por mil habitantes\t\t\n",
        "* **life_expectancy**                  \t-\tExpectativa de vida em 2019"
      ]
    },
    {
      "cell_type": "markdown",
      "metadata": {
        "id": "cS5Y4Z4XEnnd",
        "colab_type": "text"
      },
      "source": [
        "### Tamanho do DataFrame"
      ]
    },
    {
      "cell_type": "code",
      "metadata": {
        "id": "jAq5espvVPd8",
        "colab_type": "code",
        "colab": {
          "base_uri": "https://localhost:8080/",
          "height": 360
        },
        "outputId": "be9f0799-9689-4e9a-c34f-bfb64ef91583"
      },
      "source": [
        "#ver o tamanho do nosso dataframe (total de linhas e colunas)\n",
        "print (\"Entradas:\\t{}\".format(covid.shape[0]))\n",
        "print (\"Colunas: \\t{}\".format(covid.shape[1]))\n",
        "\n",
        "#verificar as 5 primeiras entradas (registros) do dataframe\n",
        "print (\"\")\n",
        "covid.head()"
      ],
      "execution_count": 2,
      "outputs": [
        {
          "output_type": "stream",
          "text": [
            "Entradas:\t29171\n",
            "Colunas: \t34\n",
            "\n"
          ],
          "name": "stdout"
        },
        {
          "output_type": "execute_result",
          "data": {
            "text/html": [
              "<div>\n",
              "<style scoped>\n",
              "    .dataframe tbody tr th:only-of-type {\n",
              "        vertical-align: middle;\n",
              "    }\n",
              "\n",
              "    .dataframe tbody tr th {\n",
              "        vertical-align: top;\n",
              "    }\n",
              "\n",
              "    .dataframe thead th {\n",
              "        text-align: right;\n",
              "    }\n",
              "</style>\n",
              "<table border=\"1\" class=\"dataframe\">\n",
              "  <thead>\n",
              "    <tr style=\"text-align: right;\">\n",
              "      <th></th>\n",
              "      <th>iso_code</th>\n",
              "      <th>continent</th>\n",
              "      <th>location</th>\n",
              "      <th>date</th>\n",
              "      <th>total_cases</th>\n",
              "      <th>new_cases</th>\n",
              "      <th>total_deaths</th>\n",
              "      <th>new_deaths</th>\n",
              "      <th>total_cases_per_million</th>\n",
              "      <th>new_cases_per_million</th>\n",
              "      <th>total_deaths_per_million</th>\n",
              "      <th>new_deaths_per_million</th>\n",
              "      <th>total_tests</th>\n",
              "      <th>new_tests</th>\n",
              "      <th>total_tests_per_thousand</th>\n",
              "      <th>new_tests_per_thousand</th>\n",
              "      <th>new_tests_smoothed</th>\n",
              "      <th>new_tests_smoothed_per_thousand</th>\n",
              "      <th>tests_units</th>\n",
              "      <th>stringency_index</th>\n",
              "      <th>population</th>\n",
              "      <th>population_density</th>\n",
              "      <th>median_age</th>\n",
              "      <th>aged_65_older</th>\n",
              "      <th>aged_70_older</th>\n",
              "      <th>gdp_per_capita</th>\n",
              "      <th>extreme_poverty</th>\n",
              "      <th>cvd_death_rate</th>\n",
              "      <th>diabetes_prevalence</th>\n",
              "      <th>female_smokers</th>\n",
              "      <th>male_smokers</th>\n",
              "      <th>handwashing_facilities</th>\n",
              "      <th>hospital_beds_per_thousand</th>\n",
              "      <th>life_expectancy</th>\n",
              "    </tr>\n",
              "  </thead>\n",
              "  <tbody>\n",
              "    <tr>\n",
              "      <th>0</th>\n",
              "      <td>AFG</td>\n",
              "      <td>Asia</td>\n",
              "      <td>Afghanistan</td>\n",
              "      <td>2019-12-31</td>\n",
              "      <td>0.0</td>\n",
              "      <td>0.0</td>\n",
              "      <td>0.0</td>\n",
              "      <td>0.0</td>\n",
              "      <td>0.0</td>\n",
              "      <td>0.0</td>\n",
              "      <td>0.0</td>\n",
              "      <td>0.0</td>\n",
              "      <td>NaN</td>\n",
              "      <td>NaN</td>\n",
              "      <td>NaN</td>\n",
              "      <td>NaN</td>\n",
              "      <td>NaN</td>\n",
              "      <td>NaN</td>\n",
              "      <td>NaN</td>\n",
              "      <td>NaN</td>\n",
              "      <td>38928341.0</td>\n",
              "      <td>54.422</td>\n",
              "      <td>18.6</td>\n",
              "      <td>2.581</td>\n",
              "      <td>1.337</td>\n",
              "      <td>1803.987</td>\n",
              "      <td>NaN</td>\n",
              "      <td>597.029</td>\n",
              "      <td>9.59</td>\n",
              "      <td>NaN</td>\n",
              "      <td>NaN</td>\n",
              "      <td>37.746</td>\n",
              "      <td>0.5</td>\n",
              "      <td>64.83</td>\n",
              "    </tr>\n",
              "    <tr>\n",
              "      <th>1</th>\n",
              "      <td>AFG</td>\n",
              "      <td>Asia</td>\n",
              "      <td>Afghanistan</td>\n",
              "      <td>2020-01-01</td>\n",
              "      <td>0.0</td>\n",
              "      <td>0.0</td>\n",
              "      <td>0.0</td>\n",
              "      <td>0.0</td>\n",
              "      <td>0.0</td>\n",
              "      <td>0.0</td>\n",
              "      <td>0.0</td>\n",
              "      <td>0.0</td>\n",
              "      <td>NaN</td>\n",
              "      <td>NaN</td>\n",
              "      <td>NaN</td>\n",
              "      <td>NaN</td>\n",
              "      <td>NaN</td>\n",
              "      <td>NaN</td>\n",
              "      <td>NaN</td>\n",
              "      <td>0.0</td>\n",
              "      <td>38928341.0</td>\n",
              "      <td>54.422</td>\n",
              "      <td>18.6</td>\n",
              "      <td>2.581</td>\n",
              "      <td>1.337</td>\n",
              "      <td>1803.987</td>\n",
              "      <td>NaN</td>\n",
              "      <td>597.029</td>\n",
              "      <td>9.59</td>\n",
              "      <td>NaN</td>\n",
              "      <td>NaN</td>\n",
              "      <td>37.746</td>\n",
              "      <td>0.5</td>\n",
              "      <td>64.83</td>\n",
              "    </tr>\n",
              "    <tr>\n",
              "      <th>2</th>\n",
              "      <td>AFG</td>\n",
              "      <td>Asia</td>\n",
              "      <td>Afghanistan</td>\n",
              "      <td>2020-01-02</td>\n",
              "      <td>0.0</td>\n",
              "      <td>0.0</td>\n",
              "      <td>0.0</td>\n",
              "      <td>0.0</td>\n",
              "      <td>0.0</td>\n",
              "      <td>0.0</td>\n",
              "      <td>0.0</td>\n",
              "      <td>0.0</td>\n",
              "      <td>NaN</td>\n",
              "      <td>NaN</td>\n",
              "      <td>NaN</td>\n",
              "      <td>NaN</td>\n",
              "      <td>NaN</td>\n",
              "      <td>NaN</td>\n",
              "      <td>NaN</td>\n",
              "      <td>0.0</td>\n",
              "      <td>38928341.0</td>\n",
              "      <td>54.422</td>\n",
              "      <td>18.6</td>\n",
              "      <td>2.581</td>\n",
              "      <td>1.337</td>\n",
              "      <td>1803.987</td>\n",
              "      <td>NaN</td>\n",
              "      <td>597.029</td>\n",
              "      <td>9.59</td>\n",
              "      <td>NaN</td>\n",
              "      <td>NaN</td>\n",
              "      <td>37.746</td>\n",
              "      <td>0.5</td>\n",
              "      <td>64.83</td>\n",
              "    </tr>\n",
              "    <tr>\n",
              "      <th>3</th>\n",
              "      <td>AFG</td>\n",
              "      <td>Asia</td>\n",
              "      <td>Afghanistan</td>\n",
              "      <td>2020-01-03</td>\n",
              "      <td>0.0</td>\n",
              "      <td>0.0</td>\n",
              "      <td>0.0</td>\n",
              "      <td>0.0</td>\n",
              "      <td>0.0</td>\n",
              "      <td>0.0</td>\n",
              "      <td>0.0</td>\n",
              "      <td>0.0</td>\n",
              "      <td>NaN</td>\n",
              "      <td>NaN</td>\n",
              "      <td>NaN</td>\n",
              "      <td>NaN</td>\n",
              "      <td>NaN</td>\n",
              "      <td>NaN</td>\n",
              "      <td>NaN</td>\n",
              "      <td>0.0</td>\n",
              "      <td>38928341.0</td>\n",
              "      <td>54.422</td>\n",
              "      <td>18.6</td>\n",
              "      <td>2.581</td>\n",
              "      <td>1.337</td>\n",
              "      <td>1803.987</td>\n",
              "      <td>NaN</td>\n",
              "      <td>597.029</td>\n",
              "      <td>9.59</td>\n",
              "      <td>NaN</td>\n",
              "      <td>NaN</td>\n",
              "      <td>37.746</td>\n",
              "      <td>0.5</td>\n",
              "      <td>64.83</td>\n",
              "    </tr>\n",
              "    <tr>\n",
              "      <th>4</th>\n",
              "      <td>AFG</td>\n",
              "      <td>Asia</td>\n",
              "      <td>Afghanistan</td>\n",
              "      <td>2020-01-04</td>\n",
              "      <td>0.0</td>\n",
              "      <td>0.0</td>\n",
              "      <td>0.0</td>\n",
              "      <td>0.0</td>\n",
              "      <td>0.0</td>\n",
              "      <td>0.0</td>\n",
              "      <td>0.0</td>\n",
              "      <td>0.0</td>\n",
              "      <td>NaN</td>\n",
              "      <td>NaN</td>\n",
              "      <td>NaN</td>\n",
              "      <td>NaN</td>\n",
              "      <td>NaN</td>\n",
              "      <td>NaN</td>\n",
              "      <td>NaN</td>\n",
              "      <td>0.0</td>\n",
              "      <td>38928341.0</td>\n",
              "      <td>54.422</td>\n",
              "      <td>18.6</td>\n",
              "      <td>2.581</td>\n",
              "      <td>1.337</td>\n",
              "      <td>1803.987</td>\n",
              "      <td>NaN</td>\n",
              "      <td>597.029</td>\n",
              "      <td>9.59</td>\n",
              "      <td>NaN</td>\n",
              "      <td>NaN</td>\n",
              "      <td>37.746</td>\n",
              "      <td>0.5</td>\n",
              "      <td>64.83</td>\n",
              "    </tr>\n",
              "  </tbody>\n",
              "</table>\n",
              "</div>"
            ],
            "text/plain": [
              "  iso_code continent  ... hospital_beds_per_thousand life_expectancy\n",
              "0      AFG      Asia  ...                        0.5           64.83\n",
              "1      AFG      Asia  ...                        0.5           64.83\n",
              "2      AFG      Asia  ...                        0.5           64.83\n",
              "3      AFG      Asia  ...                        0.5           64.83\n",
              "4      AFG      Asia  ...                        0.5           64.83\n",
              "\n",
              "[5 rows x 34 columns]"
            ]
          },
          "metadata": {
            "tags": []
          },
          "execution_count": 2
        }
      ]
    },
    {
      "cell_type": "markdown",
      "metadata": {
        "id": "v-JIZN-LFmzA",
        "colab_type": "text"
      },
      "source": [
        "### Valores Ausentes\n",
        "\n",
        "Verificando as entradas acima, nota-se a existência de diversas colunas com valores **NaN** ou em **branco**, o que indica a presença de muitos registros nulos ou não preenchidos. \n",
        "\n",
        "Abaixo, observa-se a porcentagem desses valores nulos/sem preenchimento"
      ]
    },
    {
      "cell_type": "code",
      "metadata": {
        "id": "20C742__Fvk2",
        "colab_type": "code",
        "colab": {
          "base_uri": "https://localhost:8080/",
          "height": 635
        },
        "outputId": "3526336f-91d1-4f27-b96d-042a2b945e70"
      },
      "source": [
        "# Verificar a % de valores ausentes no Dataframe\n",
        "(covid.isnull().sum() / covid.shape[0] * 100).sort_values(ascending = False)"
      ],
      "execution_count": 3,
      "outputs": [
        {
          "output_type": "execute_result",
          "data": {
            "text/plain": [
              "new_tests                          70.690069\n",
              "new_tests_per_thousand             70.690069\n",
              "total_tests_per_thousand           69.291420\n",
              "total_tests                        69.291420\n",
              "new_tests_smoothed_per_thousand    66.675808\n",
              "new_tests_smoothed                 66.675808\n",
              "tests_units                        64.293305\n",
              "handwashing_facilities             59.123787\n",
              "extreme_poverty                    40.351719\n",
              "male_smokers                       28.764869\n",
              "female_smokers                     27.921566\n",
              "stringency_index                   19.539954\n",
              "hospital_beds_per_thousand         17.651092\n",
              "aged_65_older                      11.100065\n",
              "gdp_per_capita                     10.860101\n",
              "aged_70_older                      10.277330\n",
              "median_age                          9.814542\n",
              "cvd_death_rate                      9.735696\n",
              "diabetes_prevalence                 6.760138\n",
              "population_density                  4.408488\n",
              "life_expectancy                     1.391793\n",
              "new_deaths_per_million              1.285523\n",
              "total_deaths_per_million            1.285523\n",
              "new_cases_per_million               1.285523\n",
              "total_cases_per_million             1.285523\n",
              "new_deaths                          1.066127\n",
              "total_deaths                        1.066127\n",
              "new_cases                           1.066127\n",
              "total_cases                         1.066127\n",
              "continent                           0.877584\n",
              "population                          0.219396\n",
              "iso_code                            0.219396\n",
              "date                                0.000000\n",
              "location                            0.000000\n",
              "dtype: float64"
            ]
          },
          "metadata": {
            "tags": []
          },
          "execution_count": 3
        }
      ]
    },
    {
      "cell_type": "markdown",
      "metadata": {
        "id": "M67Y915RG_xS",
        "colab_type": "text"
      },
      "source": [
        "###Limpeza e ajuste do DataFrame\n",
        "\n",
        "Acima, identifica-se a existência de variáveis com até **70%** dos dados sem preenchimento. \n",
        "\n"
      ]
    },
    {
      "cell_type": "code",
      "metadata": {
        "id": "Jz82HAMzEa3J",
        "colab_type": "code",
        "colab": {
          "base_uri": "https://localhost:8080/",
          "height": 635
        },
        "outputId": "da6ff00e-7581-4936-9787-34c06826c4bd"
      },
      "source": [
        "# verificar os tipos das nossas variáveis no dataset\n",
        "covid.dtypes"
      ],
      "execution_count": 4,
      "outputs": [
        {
          "output_type": "execute_result",
          "data": {
            "text/plain": [
              "iso_code                            object\n",
              "continent                           object\n",
              "location                            object\n",
              "date                                object\n",
              "total_cases                        float64\n",
              "new_cases                          float64\n",
              "total_deaths                       float64\n",
              "new_deaths                         float64\n",
              "total_cases_per_million            float64\n",
              "new_cases_per_million              float64\n",
              "total_deaths_per_million           float64\n",
              "new_deaths_per_million             float64\n",
              "total_tests                        float64\n",
              "new_tests                          float64\n",
              "total_tests_per_thousand           float64\n",
              "new_tests_per_thousand             float64\n",
              "new_tests_smoothed                 float64\n",
              "new_tests_smoothed_per_thousand    float64\n",
              "tests_units                         object\n",
              "stringency_index                   float64\n",
              "population                         float64\n",
              "population_density                 float64\n",
              "median_age                         float64\n",
              "aged_65_older                      float64\n",
              "aged_70_older                      float64\n",
              "gdp_per_capita                     float64\n",
              "extreme_poverty                    float64\n",
              "cvd_death_rate                     float64\n",
              "diabetes_prevalence                float64\n",
              "female_smokers                     float64\n",
              "male_smokers                       float64\n",
              "handwashing_facilities             float64\n",
              "hospital_beds_per_thousand         float64\n",
              "life_expectancy                    float64\n",
              "dtype: object"
            ]
          },
          "metadata": {
            "tags": []
          },
          "execution_count": 4
        }
      ]
    },
    {
      "cell_type": "markdown",
      "metadata": {
        "id": "YuSX7F_fJ-OU",
        "colab_type": "text"
      },
      "source": [
        "Como trabalharemos com datas, iremos transformar a variável `date` no formato datetime. Atualmente a variavel está registrada como um conjunto de caracteres o que não permite a manipulação de forma apropriada.\n"
      ]
    },
    {
      "cell_type": "code",
      "metadata": {
        "id": "woC1gUL5Kc-F",
        "colab_type": "code",
        "colab": {
          "base_uri": "https://localhost:8080/",
          "height": 34
        },
        "outputId": "b472c596-065f-4a66-b53d-4f76a7c487e2"
      },
      "source": [
        "# tranformando a varivel date para datetime\n",
        "covid['date'] = pd.to_datetime(covid['date']).copy()\n",
        "\n",
        "# verificando a data mais atual do nosso dataframe\n",
        "covid.date.max()"
      ],
      "execution_count": 5,
      "outputs": [
        {
          "output_type": "execute_result",
          "data": {
            "text/plain": [
              "Timestamp('2020-07-09 00:00:00')"
            ]
          },
          "metadata": {
            "tags": []
          },
          "execution_count": 5
        }
      ]
    },
    {
      "cell_type": "markdown",
      "metadata": {
        "id": "p3-qCyIseWi5",
        "colab_type": "text"
      },
      "source": [
        "Acima, nota-se que o conjunto de dados que estamos trabalhando foi atualizado até o dia **09/07/2020**. \n",
        "\n",
        "Todas as análises aqui apresentadas, serão realizadas a partir desta data. "
      ]
    },
    {
      "cell_type": "markdown",
      "metadata": {
        "id": "nOkzFVcbMKtP",
        "colab_type": "text"
      },
      "source": [
        "## Cenário Mundial\n",
        "\n",
        "O novo Coronavírus, pegou todo o mundo de surpresa com a facilidade que se é transmitido esse vírus entre os humanos. \n",
        "\n",
        "Muitos países adoram diversos tipos de medidas para a conteção do vírus e a preservação da vida humana.\n",
        "\n",
        "Em relação ao cenário Mundial, analisaremos: \n",
        "\n",
        "* Total de Casos confirmados \n",
        "* Total de Mortes confirmadas\n",
        "* Os países com o maior número de infectados\n",
        "* Os países com o maior número de mortes\n",
        "* Os continentes mais afetados pelo Coranavírus\n",
        "\n"
      ]
    },
    {
      "cell_type": "markdown",
      "metadata": {
        "id": "CxoHmfYmZEG3",
        "colab_type": "text"
      },
      "source": [
        "###Qual o total de Casos e Mortes confirmados no mundo?\n"
      ]
    },
    {
      "cell_type": "code",
      "metadata": {
        "id": "jsc_7CnxUnGF",
        "colab_type": "code",
        "colab": {
          "base_uri": "https://localhost:8080/",
          "height": 116
        },
        "outputId": "298fd5be-28e4-4c99-9179-027198c48b2c"
      },
      "source": [
        "#totalmundo = \n",
        "covid.query('date == \"2020-07-08\" & location == \"World\"')\n",
        "totaismundo = covid.query('date == \"2020-07-08\" & location == \"World\"')\n",
        "\n",
        "totaismundo = totaismundo[{\"date\", \"location\", \"total_cases\", \"total_deaths\"}]\n",
        "#print (\"O total de casos do mundo é de: {}\".format(totalmundo));\n",
        "\n",
        "totaismundo"
      ],
      "execution_count": 6,
      "outputs": [
        {
          "output_type": "execute_result",
          "data": {
            "text/html": [
              "<div>\n",
              "<style scoped>\n",
              "    .dataframe tbody tr th:only-of-type {\n",
              "        vertical-align: middle;\n",
              "    }\n",
              "\n",
              "    .dataframe tbody tr th {\n",
              "        vertical-align: top;\n",
              "    }\n",
              "\n",
              "    .dataframe thead th {\n",
              "        text-align: right;\n",
              "    }\n",
              "</style>\n",
              "<table border=\"1\" class=\"dataframe\">\n",
              "  <thead>\n",
              "    <tr style=\"text-align: right;\">\n",
              "      <th></th>\n",
              "      <th>date</th>\n",
              "      <th>location</th>\n",
              "      <th>total_deaths</th>\n",
              "      <th>total_cases</th>\n",
              "    </tr>\n",
              "  </thead>\n",
              "  <tbody>\n",
              "    <tr>\n",
              "      <th>29105</th>\n",
              "      <td>2020-07-08</td>\n",
              "      <td>World</td>\n",
              "      <td>543906.0</td>\n",
              "      <td>11802188.0</td>\n",
              "    </tr>\n",
              "  </tbody>\n",
              "</table>\n",
              "</div>"
            ],
            "text/plain": [
              "            date location  total_deaths  total_cases\n",
              "29105 2020-07-08    World      543906.0   11802188.0"
            ]
          },
          "metadata": {
            "tags": []
          },
          "execution_count": 6
        }
      ]
    },
    {
      "cell_type": "code",
      "metadata": {
        "id": "auqe91MpfTdw",
        "colab_type": "code",
        "colab": {
          "base_uri": "https://localhost:8080/",
          "height": 54
        },
        "outputId": "7b2b8187-32df-4278-9e7c-ac3785b80897"
      },
      "source": [
        "#Calcular a média do número de casos / número de mortes. \n",
        "casos = totaismundo['total_cases'].max()\n",
        "mortes = totaismundo['total_deaths'].max()\n",
        "taxa = mortes / casos * 100\n",
        "taxa = (round(taxa,2))\n",
        "\n",
        "print('O total de mortes por Covid-19 representa {}%'.format(taxa),'do total de casos registrados no Mundo ')"
      ],
      "execution_count": 7,
      "outputs": [
        {
          "output_type": "stream",
          "text": [
            "O total de mortes por Covid-19 representa 4.61% do total de casos registrados no Mundo \n"
          ],
          "name": "stdout"
        }
      ]
    },
    {
      "cell_type": "markdown",
      "metadata": {
        "id": "wTsBfXVzlQ2L",
        "colab_type": "text"
      },
      "source": [
        "Em **09/07/2020** o número total de infectados pelo vírus da **SARS-CoV-2** passava dos **11 milhões** de pessoas. Dentre estes, **4,61%** vieram a óbito.  \n",
        "\n",
        "\n"
      ]
    },
    {
      "cell_type": "markdown",
      "metadata": {
        "id": "dZ6cDPU4uUgc",
        "colab_type": "text"
      },
      "source": [
        "### Quais os países 15 países com maior número de infectados? "
      ]
    },
    {
      "cell_type": "code",
      "metadata": {
        "id": "cm3BIzf0Um7_",
        "colab_type": "code",
        "colab": {
          "base_uri": "https://localhost:8080/",
          "height": 512
        },
        "outputId": "41ae97f0-ce0b-40b3-ffa4-feddf76053ff"
      },
      "source": [
        "top10casos = covid.query('date == \"2020-07-08\"')\n",
        "top10casos = top10casos[{'location', 'total_cases'}].sort_values(by=\"total_cases\", ascending=False)[1:17]\n",
        "top10casos = top10casos.reset_index(drop=True)\n",
        "top10casos = top10casos.shift()[1:]\n",
        "top10casos = top10casos.rename(columns= {'location':'País', 'total_cases': 'Total de Casos'})\n",
        "top10casos = round(top10casos,8)\n",
        "top10casos"
      ],
      "execution_count": 8,
      "outputs": [
        {
          "output_type": "execute_result",
          "data": {
            "text/html": [
              "<div>\n",
              "<style scoped>\n",
              "    .dataframe tbody tr th:only-of-type {\n",
              "        vertical-align: middle;\n",
              "    }\n",
              "\n",
              "    .dataframe tbody tr th {\n",
              "        vertical-align: top;\n",
              "    }\n",
              "\n",
              "    .dataframe thead th {\n",
              "        text-align: right;\n",
              "    }\n",
              "</style>\n",
              "<table border=\"1\" class=\"dataframe\">\n",
              "  <thead>\n",
              "    <tr style=\"text-align: right;\">\n",
              "      <th></th>\n",
              "      <th>Total de Casos</th>\n",
              "      <th>País</th>\n",
              "    </tr>\n",
              "  </thead>\n",
              "  <tbody>\n",
              "    <tr>\n",
              "      <th>1</th>\n",
              "      <td>2996098.0</td>\n",
              "      <td>United States</td>\n",
              "    </tr>\n",
              "    <tr>\n",
              "      <th>2</th>\n",
              "      <td>1668589.0</td>\n",
              "      <td>Brazil</td>\n",
              "    </tr>\n",
              "    <tr>\n",
              "      <th>3</th>\n",
              "      <td>742417.0</td>\n",
              "      <td>India</td>\n",
              "    </tr>\n",
              "    <tr>\n",
              "      <th>4</th>\n",
              "      <td>694230.0</td>\n",
              "      <td>Russia</td>\n",
              "    </tr>\n",
              "    <tr>\n",
              "      <th>5</th>\n",
              "      <td>309278.0</td>\n",
              "      <td>Peru</td>\n",
              "    </tr>\n",
              "    <tr>\n",
              "      <th>6</th>\n",
              "      <td>301019.0</td>\n",
              "      <td>Chile</td>\n",
              "    </tr>\n",
              "    <tr>\n",
              "      <th>7</th>\n",
              "      <td>286349.0</td>\n",
              "      <td>United Kingdom</td>\n",
              "    </tr>\n",
              "    <tr>\n",
              "      <th>8</th>\n",
              "      <td>268008.0</td>\n",
              "      <td>Mexico</td>\n",
              "    </tr>\n",
              "    <tr>\n",
              "      <th>9</th>\n",
              "      <td>252513.0</td>\n",
              "      <td>Spain</td>\n",
              "    </tr>\n",
              "    <tr>\n",
              "      <th>10</th>\n",
              "      <td>245688.0</td>\n",
              "      <td>Iran</td>\n",
              "    </tr>\n",
              "    <tr>\n",
              "      <th>11</th>\n",
              "      <td>241956.0</td>\n",
              "      <td>Italy</td>\n",
              "    </tr>\n",
              "    <tr>\n",
              "      <th>12</th>\n",
              "      <td>237489.0</td>\n",
              "      <td>Pakistan</td>\n",
              "    </tr>\n",
              "    <tr>\n",
              "      <th>13</th>\n",
              "      <td>217108.0</td>\n",
              "      <td>Saudi Arabia</td>\n",
              "    </tr>\n",
              "    <tr>\n",
              "      <th>14</th>\n",
              "      <td>215855.0</td>\n",
              "      <td>South Africa</td>\n",
              "    </tr>\n",
              "    <tr>\n",
              "      <th>15</th>\n",
              "      <td>207897.0</td>\n",
              "      <td>Turkey</td>\n",
              "    </tr>\n",
              "  </tbody>\n",
              "</table>\n",
              "</div>"
            ],
            "text/plain": [
              "    Total de Casos            País\n",
              "1        2996098.0   United States\n",
              "2        1668589.0          Brazil\n",
              "3         742417.0           India\n",
              "4         694230.0          Russia\n",
              "5         309278.0            Peru\n",
              "6         301019.0           Chile\n",
              "7         286349.0  United Kingdom\n",
              "8         268008.0          Mexico\n",
              "9         252513.0           Spain\n",
              "10        245688.0            Iran\n",
              "11        241956.0           Italy\n",
              "12        237489.0        Pakistan\n",
              "13        217108.0    Saudi Arabia\n",
              "14        215855.0    South Africa\n",
              "15        207897.0          Turkey"
            ]
          },
          "metadata": {
            "tags": []
          },
          "execution_count": 8
        }
      ]
    },
    {
      "cell_type": "markdown",
      "metadata": {
        "id": "3gB5YZXbDF9g",
        "colab_type": "text"
      },
      "source": [
        "### Quais os 15 países com o maior número de mortes?"
      ]
    },
    {
      "cell_type": "code",
      "metadata": {
        "id": "sPTKCaKEUmsy",
        "colab_type": "code",
        "colab": {
          "base_uri": "https://localhost:8080/",
          "height": 512
        },
        "outputId": "41dadaad-a295-4540-b3f8-a7701935bc1e"
      },
      "source": [
        "top10mortes = covid.query('date == \"2020-07-08\"')\n",
        "top10mortes = top10mortes[{'location', 'total_deaths'}].sort_values(by=\"total_deaths\", ascending=False)[1:17]\n",
        "top10mortes = top10mortes.reset_index(drop=True)\n",
        "top10mortes = top10mortes.shift()[1:]\n",
        "top10mortes = top10mortes.rename(columns= {'location':'País', 'total_deaths': 'Total de Mortes'})\n",
        "top10mortes"
      ],
      "execution_count": 9,
      "outputs": [
        {
          "output_type": "execute_result",
          "data": {
            "text/html": [
              "<div>\n",
              "<style scoped>\n",
              "    .dataframe tbody tr th:only-of-type {\n",
              "        vertical-align: middle;\n",
              "    }\n",
              "\n",
              "    .dataframe tbody tr th {\n",
              "        vertical-align: top;\n",
              "    }\n",
              "\n",
              "    .dataframe thead th {\n",
              "        text-align: right;\n",
              "    }\n",
              "</style>\n",
              "<table border=\"1\" class=\"dataframe\">\n",
              "  <thead>\n",
              "    <tr style=\"text-align: right;\">\n",
              "      <th></th>\n",
              "      <th>País</th>\n",
              "      <th>Total de Mortes</th>\n",
              "    </tr>\n",
              "  </thead>\n",
              "  <tbody>\n",
              "    <tr>\n",
              "      <th>1</th>\n",
              "      <td>United States</td>\n",
              "      <td>131480.0</td>\n",
              "    </tr>\n",
              "    <tr>\n",
              "      <th>2</th>\n",
              "      <td>Brazil</td>\n",
              "      <td>66741.0</td>\n",
              "    </tr>\n",
              "    <tr>\n",
              "      <th>3</th>\n",
              "      <td>United Kingdom</td>\n",
              "      <td>44391.0</td>\n",
              "    </tr>\n",
              "    <tr>\n",
              "      <th>4</th>\n",
              "      <td>Italy</td>\n",
              "      <td>34899.0</td>\n",
              "    </tr>\n",
              "    <tr>\n",
              "      <th>5</th>\n",
              "      <td>Mexico</td>\n",
              "      <td>32014.0</td>\n",
              "    </tr>\n",
              "    <tr>\n",
              "      <th>6</th>\n",
              "      <td>France</td>\n",
              "      <td>29933.0</td>\n",
              "    </tr>\n",
              "    <tr>\n",
              "      <th>7</th>\n",
              "      <td>Spain</td>\n",
              "      <td>28396.0</td>\n",
              "    </tr>\n",
              "    <tr>\n",
              "      <th>8</th>\n",
              "      <td>India</td>\n",
              "      <td>20642.0</td>\n",
              "    </tr>\n",
              "    <tr>\n",
              "      <th>9</th>\n",
              "      <td>Iran</td>\n",
              "      <td>11931.0</td>\n",
              "    </tr>\n",
              "    <tr>\n",
              "      <th>10</th>\n",
              "      <td>Peru</td>\n",
              "      <td>10952.0</td>\n",
              "    </tr>\n",
              "    <tr>\n",
              "      <th>11</th>\n",
              "      <td>Russia</td>\n",
              "      <td>10494.0</td>\n",
              "    </tr>\n",
              "    <tr>\n",
              "      <th>12</th>\n",
              "      <td>Belgium</td>\n",
              "      <td>9776.0</td>\n",
              "    </tr>\n",
              "    <tr>\n",
              "      <th>13</th>\n",
              "      <td>Germany</td>\n",
              "      <td>9036.0</td>\n",
              "    </tr>\n",
              "    <tr>\n",
              "      <th>14</th>\n",
              "      <td>Canada</td>\n",
              "      <td>8711.0</td>\n",
              "    </tr>\n",
              "    <tr>\n",
              "      <th>15</th>\n",
              "      <td>Chile</td>\n",
              "      <td>6434.0</td>\n",
              "    </tr>\n",
              "  </tbody>\n",
              "</table>\n",
              "</div>"
            ],
            "text/plain": [
              "              País  Total de Mortes\n",
              "1    United States         131480.0\n",
              "2           Brazil          66741.0\n",
              "3   United Kingdom          44391.0\n",
              "4            Italy          34899.0\n",
              "5           Mexico          32014.0\n",
              "6           France          29933.0\n",
              "7            Spain          28396.0\n",
              "8            India          20642.0\n",
              "9             Iran          11931.0\n",
              "10            Peru          10952.0\n",
              "11          Russia          10494.0\n",
              "12         Belgium           9776.0\n",
              "13         Germany           9036.0\n",
              "14          Canada           8711.0\n",
              "15           Chile           6434.0"
            ]
          },
          "metadata": {
            "tags": []
          },
          "execution_count": 9
        }
      ]
    },
    {
      "cell_type": "markdown",
      "metadata": {
        "id": "hIad_KAXD4Vl",
        "colab_type": "text"
      },
      "source": [
        "Acima, destacam-se entre os países com o maior número de mortes a **França** e **Bélgica**. Mesmo não figurando entre os países com os maiores números de infectados, ainda assim estão entre os países com o maior número de mortes.\n",
        "\n",
        "No gráfico abaixo, observa-se a comparação entre os dois países com o maior número de casos (Brasil e Estados Unidos) e a França e a Bélgica."
      ]
    },
    {
      "cell_type": "code",
      "metadata": {
        "id": "9AGkRKy_DPpd",
        "colab_type": "code",
        "colab": {
          "base_uri": "https://localhost:8080/",
          "height": 158
        },
        "outputId": "1f406354-ce3b-4fac-a2ae-1b457c6b7090"
      },
      "source": [
        "#Construção de um novo dataframe para comparação dos países citados acima\n",
        "comp = covid.loc[(covid.date == '2020-07-08') & (covid.location.isin({\"United States\", \"Brazil\", \"Belgium\", \"France\"})), \n",
        "                 ['location', 'total_cases', 'total_deaths', 'aged_65_older' ,'aged_70_older', 'hospital_beds_per_thousand' ,'population_density'] ]\n",
        "\n",
        "#criação de uma nova coluna no dataframe que é a porcentual de mortalidade pelo número de casos\n",
        "comp['death_rate'] = comp['total_deaths'] / comp['total_cases'] * 100\n",
        "\n",
        "#variáveis para plotagem\n",
        "deaths = comp[{'location', 'total_deaths'}].sort_values(by=\"total_deaths\", ascending=False)\n",
        "cases = comp[{'location', 'total_cases'}].sort_values(by=\"total_cases\", ascending=False)\n",
        "rate = comp[{'location', 'death_rate'}].sort_values(by=\"death_rate\", ascending=False)\n",
        "density = comp[{'location', 'population_density'}].sort_values(by=\"population_density\", ascending=False)\n",
        "\n",
        "#plotando os Gráficos\n",
        "\n",
        "fig, ((ax1, ax2), (ax3, ax4)) = plt.subplots(nrows=2, ncols=2, figsize=(15,7), squeeze=False, ) #Configuração da figura\n",
        "\n",
        "#Gráfico 1\n",
        "ax = sns.barplot(x=\"location\", y=\"total_cases\", data=cases,\n",
        "                 edgecolor = \"0.1\",\n",
        "                 linewidth =1.5,\n",
        "                 palette=\"Greys\",\n",
        "                 hatch = \"/\", ax=ax1 )\n",
        "ax.set_title (\"Total de Casos\", fontsize = 15, weight = 'bold')\n",
        "ax.set_ylabel (\"Número de casos\", fontsize = 15, weight = 'bold')\n",
        "ax.set_xlabel (\" \",fontsize = 15, weight = 'bold' )\n",
        "\n",
        "#Gráfico 2\n",
        "ax= sns.barplot(x=\"location\", y=\"total_deaths\", data=deaths,\n",
        "                 edgecolor = \"0.1\",\n",
        "                 linewidth = 1.5,\n",
        "                 palette=\"Greys\",\n",
        "                 hatch = \"/\", ax=ax2)\n",
        "ax.set_title (\"Total de Mortes\", fontsize = 15, weight = 'bold')\n",
        "ax.set_ylabel (\"Número de Mortes\", fontsize = 15, weight = 'bold')\n",
        "ax.set_xlabel (\" \",fontsize = 15, weight = 'bold' )\n",
        "\n",
        "#Gráfico 3\n",
        "ax= sns.barplot(x=\"location\", y=\"death_rate\", data=rate,\n",
        "                 edgecolor = \"0.1\",\n",
        "                 linewidth =1.5,\n",
        "                 palette=\"gist_gray\",\n",
        "                 hatch = \"\\\\\",ax=ax3)\n",
        "ax.set_title (\"Taxa de Mortalidade\", fontsize = 15, weight = 'bold')\n",
        "ax.set_ylabel (\"Taxa\", fontsize = 15, weight = 'bold')\n",
        "ax.set_xlabel (\" \",fontsize = 15, weight = 'bold')\n",
        "\n",
        "#Gráfico 4\n",
        "ax = sns.barplot(x=\"location\", y=\"population_density\", data=density, #orientações e o dataframe utilizado\n",
        "                 edgecolor = \"0.1\", #espessura e cor da linha do estilo de preenchimento\n",
        "                 linewidth =1.5, #linha das barras espessura\n",
        "                 palette=\"Greys\", # paleta de cores\n",
        "                 hatch = \"/\", ax= ax4)# estilo do preenchimento, a source do meu axes\n",
        "ax.set_title (\"Densidade populacional\", fontsize = 15, weight = 'bold') #Titulo do gráfico\n",
        "ax.set_ylabel (\"Habitantes x Km²\", fontsize = 15, weight = 'bold') #legenda eixo X, tamando de fonte , negrito\n",
        "ax.set_xlabel (\" \",fontsize = 15, weight = 'bold') #legenda eixo Y, tamando de fonte , negrito\n",
        "\n",
        "sns.despine() # retirar as bordas da figura\n",
        "sns.set_style(\"ticks\") # estilo do gráfico\n",
        "plt.tight_layout() #Deixar o gráfico ajustado automaticamente"
      ],
      "execution_count": 10,
      "outputs": [
        {
          "output_type": "display_data",
          "data": {
            "image/png": "[encoded data removed]",
            "text/plain": [
              "<Figure size 1080x504 with 4 Axes>"
            ]
          },
          "metadata": {
            "tags": [],
            "needs_background": "light"
          }
        }
      ]
    },
    {
      "cell_type": "code",
      "metadata": {
        "id": "yHoeQB_NIIqT",
        "colab_type": "code",
        "colab": {
          "base_uri": "https://localhost:8080/",
          "height": 209
        },
        "outputId": "6f81f830-8691-49ad-aaa2-24a59db8e36b"
      },
      "source": [
        "comp"
      ],
      "execution_count": 11,
      "outputs": [
        {
          "output_type": "execute_result",
          "data": {
            "text/html": [
              "<div>\n",
              "<style scoped>\n",
              "    .dataframe tbody tr th:only-of-type {\n",
              "        vertical-align: middle;\n",
              "    }\n",
              "\n",
              "    .dataframe tbody tr th {\n",
              "        vertical-align: top;\n",
              "    }\n",
              "\n",
              "    .dataframe thead th {\n",
              "        text-align: right;\n",
              "    }\n",
              "</style>\n",
              "<table border=\"1\" class=\"dataframe\">\n",
              "  <thead>\n",
              "    <tr style=\"text-align: right;\">\n",
              "      <th></th>\n",
              "      <th>location</th>\n",
              "      <th>total_cases</th>\n",
              "      <th>total_deaths</th>\n",
              "      <th>aged_65_older</th>\n",
              "      <th>aged_70_older</th>\n",
              "      <th>hospital_beds_per_thousand</th>\n",
              "      <th>population_density</th>\n",
              "      <th>death_rate</th>\n",
              "    </tr>\n",
              "  </thead>\n",
              "  <tbody>\n",
              "    <tr>\n",
              "      <th>2852</th>\n",
              "      <td>Belgium</td>\n",
              "      <td>62123.0</td>\n",
              "      <td>9776.0</td>\n",
              "      <td>18.571</td>\n",
              "      <td>12.849</td>\n",
              "      <td>5.64</td>\n",
              "      <td>375.564</td>\n",
              "      <td>15.736523</td>\n",
              "    </tr>\n",
              "    <tr>\n",
              "      <th>3935</th>\n",
              "      <td>Brazil</td>\n",
              "      <td>1668589.0</td>\n",
              "      <td>66741.0</td>\n",
              "      <td>8.552</td>\n",
              "      <td>5.060</td>\n",
              "      <td>2.20</td>\n",
              "      <td>25.040</td>\n",
              "      <td>3.999847</td>\n",
              "    </tr>\n",
              "    <tr>\n",
              "      <th>9559</th>\n",
              "      <td>France</td>\n",
              "      <td>168810.0</td>\n",
              "      <td>29933.0</td>\n",
              "      <td>19.718</td>\n",
              "      <td>13.079</td>\n",
              "      <td>5.98</td>\n",
              "      <td>122.578</td>\n",
              "      <td>17.731769</td>\n",
              "    </tr>\n",
              "    <tr>\n",
              "      <th>27758</th>\n",
              "      <td>United States</td>\n",
              "      <td>2996098.0</td>\n",
              "      <td>131480.0</td>\n",
              "      <td>15.413</td>\n",
              "      <td>9.732</td>\n",
              "      <td>2.77</td>\n",
              "      <td>35.608</td>\n",
              "      <td>4.388374</td>\n",
              "    </tr>\n",
              "  </tbody>\n",
              "</table>\n",
              "</div>"
            ],
            "text/plain": [
              "            location  total_cases  ...  population_density  death_rate\n",
              "2852         Belgium      62123.0  ...             375.564   15.736523\n",
              "3935          Brazil    1668589.0  ...              25.040    3.999847\n",
              "9559          France     168810.0  ...             122.578   17.731769\n",
              "27758  United States    2996098.0  ...              35.608    4.388374\n",
              "\n",
              "[4 rows x 8 columns]"
            ]
          },
          "metadata": {
            "tags": []
          },
          "execution_count": 11
        }
      ]
    },
    {
      "cell_type": "markdown",
      "metadata": {
        "id": "C9hAH1LeFH6P",
        "colab_type": "text"
      },
      "source": [
        "Acima, nota-se que a taxa de mortalidade da França e da Bélgica é aproximadamente 3 vezes maior, se comparado com o Brasil e o Estados Unidos.\n",
        "\n",
        "Já a densidade populacional é ainda maior se comparado com os dois países com os maiores números de casos registrados. \n",
        "\n",
        "Há diversos fatores que influenciam esses números e que ainda estão em estudo, contudo, nota-se no quadro acima que tanto França quanto a Bélgica têm em torno de 19% da sua população de pessoas acima dos 65 anos (grupo de risco) e mesmo tendo aproximadamente o dobro de número de leitos em hospital por mil habitantes a taxa de mortalidade está acima dos demais."
      ]
    },
    {
      "cell_type": "markdown",
      "metadata": {
        "id": "ws-7XaYLHUiZ",
        "colab_type": "text"
      },
      "source": [
        "### Qual o número total de casos por continente?\n",
        "\n"
      ]
    },
    {
      "cell_type": "code",
      "metadata": {
        "id": "1lNvXMERvlB8",
        "colab_type": "code",
        "colab": {
          "base_uri": "https://localhost:8080/",
          "height": 134
        },
        "outputId": "0918581f-b6f2-48de-eb00-94599acbd925"
      },
      "source": [
        "#Criação de um filtro no dataframe orinal para trabalhar o total agrupado\n",
        "topcont = covid.loc[(covid.date == '2020-07-08')].groupby('continent')['total_cases'].sum().to_dict() \n",
        "topcont = pd.DataFrame([topcont],index=['Total Casos'])\n",
        "topcont"
      ],
      "execution_count": 12,
      "outputs": [
        {
          "output_type": "execute_result",
          "data": {
            "text/html": [
              "<div>\n",
              "<style scoped>\n",
              "    .dataframe tbody tr th:only-of-type {\n",
              "        vertical-align: middle;\n",
              "    }\n",
              "\n",
              "    .dataframe tbody tr th {\n",
              "        vertical-align: top;\n",
              "    }\n",
              "\n",
              "    .dataframe thead th {\n",
              "        text-align: right;\n",
              "    }\n",
              "</style>\n",
              "<table border=\"1\" class=\"dataframe\">\n",
              "  <thead>\n",
              "    <tr style=\"text-align: right;\">\n",
              "      <th></th>\n",
              "      <th>Africa</th>\n",
              "      <th>Asia</th>\n",
              "      <th>Europe</th>\n",
              "      <th>North America</th>\n",
              "      <th>Oceania</th>\n",
              "      <th>South America</th>\n",
              "    </tr>\n",
              "  </thead>\n",
              "  <tbody>\n",
              "    <tr>\n",
              "      <th>Total Casos</th>\n",
              "      <td>509003.0</td>\n",
              "      <td>2683583.0</td>\n",
              "      <td>2462406.0</td>\n",
              "      <td>3535435.0</td>\n",
              "      <td>10389.0</td>\n",
              "      <td>2600676.0</td>\n",
              "    </tr>\n",
              "  </tbody>\n",
              "</table>\n",
              "</div>"
            ],
            "text/plain": [
              "               Africa       Asia  ...  Oceania  South America\n",
              "Total Casos  509003.0  2683583.0  ...  10389.0      2600676.0\n",
              "\n",
              "[1 rows x 6 columns]"
            ]
          },
          "metadata": {
            "tags": []
          },
          "execution_count": 12
        }
      ]
    },
    {
      "cell_type": "markdown",
      "metadata": {
        "id": "rKOrTG6MeWgZ",
        "colab_type": "text"
      },
      "source": [
        "No gráfico abaixo, visualiza-se a representação da quantidade de casos por continente "
      ]
    },
    {
      "cell_type": "code",
      "metadata": {
        "id": "nKR1IXDRvlAY",
        "colab_type": "code",
        "colab": {
          "base_uri": "https://localhost:8080/",
          "height": 143
        },
        "outputId": "6beeec4f-255c-44dc-9deb-72eeeb7bb3fa"
      },
      "source": [
        "waf = covid.query('date == \"2020-07-08\"')\n",
        "waf = waf.groupby('continent')['total_cases'].sum().to_dict()\n",
        "\n",
        "fig = plt.figure(\n",
        "    FigureClass = Waffle,\n",
        "    rows = 6,\n",
        "    columns = 12,\n",
        "    values = waf,\n",
        "    icons = 'file-medical', icon_size=20, #file-medical\n",
        "    #colors = ('gray','darkgray','lightgrey','dimgrey','gainsboro','whitesmoke'),\n",
        "    figsize = (9,12),\n",
        "    legend = {'loc': 'upper left','bbox_to_anchor':(1.1,1) },\n",
        "    title ={'label': 'Casos por Continente','fontsize': 18, 'fontweight': 'medium' , 'loc': 'center'},\n",
        "    icon_legend = True, \n",
        "    rounding_rule = 'nearest'\n",
        ")\n",
        "\n",
        "plt.tight_layout()"
      ],
      "execution_count": 13,
      "outputs": [
        {
          "output_type": "display_data",
          "data": {
            "image/png": "[encoded data removed]",
            "text/plain": [
              "<Waffle size 648x864 with 1 Axes>"
            ]
          },
          "metadata": {
            "tags": []
          }
        }
      ]
    },
    {
      "cell_type": "markdown",
      "metadata": {
        "id": "qdx9CT5VQd25",
        "colab_type": "text"
      },
      "source": [
        "## Cenário Brasil\n",
        "\n",
        "Atualmente, o Brasil é o segundo pais com o maior número de infectados e de mortes por coronavírus, ficando atrás apenas do Estados Unidos. \n",
        "\n",
        "Para avaliarmos mais de perto o cenário no Brasil, utilizaremos das informações oficiais disponibilizadas pelo [Ministério da Saúde](https://covid.saude.gov.br/), dados no nível municipal do [Brasil.IO](https://brasil.io/dataset/covid19/caso) e dados mais recentes reportados pela equipe do [@CoronavirusBra1](https://twitter.com/CoronavirusBra1) e consolidades pela equipe [SciELO](10.1590/SciELOPreprints.362).\n",
        "\n",
        "Os dados sobre o número de recuperados, suspeitos e testes por estado foram obtidos a partir da [planilha](https://docs.google.com/spreadsheets/d/1MWQE3s4ef6dxJosyqvsFaV4fDyElxnBUB6gMGvs3rEc/edit?usp=sharing) atualizada pelo [@CoronavirusBra1](https://twitter.com/CoronavirusBra1) usando os boletins de cada estado, quando disponíveis."
      ]
    },
    {
      "cell_type": "code",
      "metadata": {
        "id": "3MfBv1J2vlQM",
        "colab_type": "code",
        "colab": {}
      },
      "source": [
        "#montar um repositório do google drive para leitura e montagem do dataframe\n",
        "from google.colab import drive\n",
        "drive.mount('/content/drive')"
      ],
      "execution_count": null,
      "outputs": []
    },
    {
      "cell_type": "code",
      "metadata": {
        "id": "FgfsQ9JPr08H",
        "colab_type": "code",
        "colab": {
          "base_uri": "https://localhost:8080/",
          "height": 308
        },
        "outputId": "9712c62e-4383-416d-b754-3f894528bce0"
      },
      "source": [
        "brasil = pd.read_excel('/content/drive/My Drive/Colab Notebooks/Covid19/HIST_PAINEL_COVIDBR_09jul2020.xlsx')\n",
        "brasil.head()"
      ],
      "execution_count": 39,
      "outputs": [
        {
          "output_type": "execute_result",
          "data": {
            "text/html": [
              "<div>\n",
              "<style scoped>\n",
              "    .dataframe tbody tr th:only-of-type {\n",
              "        vertical-align: middle;\n",
              "    }\n",
              "\n",
              "    .dataframe tbody tr th {\n",
              "        vertical-align: top;\n",
              "    }\n",
              "\n",
              "    .dataframe thead th {\n",
              "        text-align: right;\n",
              "    }\n",
              "</style>\n",
              "<table border=\"1\" class=\"dataframe\">\n",
              "  <thead>\n",
              "    <tr style=\"text-align: right;\">\n",
              "      <th></th>\n",
              "      <th>regiao</th>\n",
              "      <th>estado</th>\n",
              "      <th>municipio</th>\n",
              "      <th>coduf</th>\n",
              "      <th>codmun</th>\n",
              "      <th>codRegiaoSaude</th>\n",
              "      <th>nomeRegiaoSaude</th>\n",
              "      <th>data</th>\n",
              "      <th>semanaEpi</th>\n",
              "      <th>populacaoTCU2019</th>\n",
              "      <th>casosAcumulado</th>\n",
              "      <th>casosNovos</th>\n",
              "      <th>obitosAcumulado</th>\n",
              "      <th>obitosNovos</th>\n",
              "      <th>Recuperadosnovos</th>\n",
              "      <th>emAcompanhamentoNovos</th>\n",
              "      <th>interior/metropolitana</th>\n",
              "    </tr>\n",
              "  </thead>\n",
              "  <tbody>\n",
              "    <tr>\n",
              "      <th>0</th>\n",
              "      <td>Brasil</td>\n",
              "      <td>NaN</td>\n",
              "      <td>NaN</td>\n",
              "      <td>76</td>\n",
              "      <td>NaN</td>\n",
              "      <td>NaN</td>\n",
              "      <td>NaN</td>\n",
              "      <td>2020-02-25</td>\n",
              "      <td>9</td>\n",
              "      <td>210147125</td>\n",
              "      <td>0</td>\n",
              "      <td>0</td>\n",
              "      <td>0</td>\n",
              "      <td>0</td>\n",
              "      <td>NaN</td>\n",
              "      <td>NaN</td>\n",
              "      <td>NaN</td>\n",
              "    </tr>\n",
              "    <tr>\n",
              "      <th>1</th>\n",
              "      <td>Brasil</td>\n",
              "      <td>NaN</td>\n",
              "      <td>NaN</td>\n",
              "      <td>76</td>\n",
              "      <td>NaN</td>\n",
              "      <td>NaN</td>\n",
              "      <td>NaN</td>\n",
              "      <td>2020-02-26</td>\n",
              "      <td>9</td>\n",
              "      <td>210147125</td>\n",
              "      <td>1</td>\n",
              "      <td>1</td>\n",
              "      <td>0</td>\n",
              "      <td>0</td>\n",
              "      <td>NaN</td>\n",
              "      <td>NaN</td>\n",
              "      <td>NaN</td>\n",
              "    </tr>\n",
              "    <tr>\n",
              "      <th>2</th>\n",
              "      <td>Brasil</td>\n",
              "      <td>NaN</td>\n",
              "      <td>NaN</td>\n",
              "      <td>76</td>\n",
              "      <td>NaN</td>\n",
              "      <td>NaN</td>\n",
              "      <td>NaN</td>\n",
              "      <td>2020-02-27</td>\n",
              "      <td>9</td>\n",
              "      <td>210147125</td>\n",
              "      <td>1</td>\n",
              "      <td>0</td>\n",
              "      <td>0</td>\n",
              "      <td>0</td>\n",
              "      <td>NaN</td>\n",
              "      <td>NaN</td>\n",
              "      <td>NaN</td>\n",
              "    </tr>\n",
              "    <tr>\n",
              "      <th>3</th>\n",
              "      <td>Brasil</td>\n",
              "      <td>NaN</td>\n",
              "      <td>NaN</td>\n",
              "      <td>76</td>\n",
              "      <td>NaN</td>\n",
              "      <td>NaN</td>\n",
              "      <td>NaN</td>\n",
              "      <td>2020-02-28</td>\n",
              "      <td>9</td>\n",
              "      <td>210147125</td>\n",
              "      <td>1</td>\n",
              "      <td>0</td>\n",
              "      <td>0</td>\n",
              "      <td>0</td>\n",
              "      <td>NaN</td>\n",
              "      <td>NaN</td>\n",
              "      <td>NaN</td>\n",
              "    </tr>\n",
              "    <tr>\n",
              "      <th>4</th>\n",
              "      <td>Brasil</td>\n",
              "      <td>NaN</td>\n",
              "      <td>NaN</td>\n",
              "      <td>76</td>\n",
              "      <td>NaN</td>\n",
              "      <td>NaN</td>\n",
              "      <td>NaN</td>\n",
              "      <td>2020-02-29</td>\n",
              "      <td>9</td>\n",
              "      <td>210147125</td>\n",
              "      <td>2</td>\n",
              "      <td>1</td>\n",
              "      <td>0</td>\n",
              "      <td>0</td>\n",
              "      <td>NaN</td>\n",
              "      <td>NaN</td>\n",
              "      <td>NaN</td>\n",
              "    </tr>\n",
              "  </tbody>\n",
              "</table>\n",
              "</div>"
            ],
            "text/plain": [
              "   regiao estado  ... emAcompanhamentoNovos  interior/metropolitana\n",
              "0  Brasil    NaN  ...                   NaN                     NaN\n",
              "1  Brasil    NaN  ...                   NaN                     NaN\n",
              "2  Brasil    NaN  ...                   NaN                     NaN\n",
              "3  Brasil    NaN  ...                   NaN                     NaN\n",
              "4  Brasil    NaN  ...                   NaN                     NaN\n",
              "\n",
              "[5 rows x 17 columns]"
            ]
          },
          "metadata": {
            "tags": []
          },
          "execution_count": 39
        }
      ]
    },
    {
      "cell_type": "markdown",
      "metadata": {
        "id": "Ay1GxYuPRdDc",
        "colab_type": "text"
      },
      "source": [
        "Após verificar as 5 primeiras entradas do nosso dataframe, abaixo criaremos um outro dataframe tratando os dados que estão em branco e pegando as informações que iremos trabalhar para apresentar um gráfico onde iremos analisar a quantidade de casos, mortes e recuperados."
      ]
    },
    {
      "cell_type": "code",
      "metadata": {
        "id": "JTYKZeyznZ0h",
        "colab_type": "code",
        "colab": {
          "base_uri": "https://localhost:8080/",
          "height": 193
        },
        "outputId": "2d11faad-625a-4dcc-8531-892a51674377"
      },
      "source": [
        "from matplotlib.ticker import MultipleLocator #Importar a função para alteração dos valores dos axis\n",
        "\n",
        "geral = brasil.loc[(brasil.regiao == \"Brasil\"),\n",
        "                   ['regiao', 'data', 'semanaEpi', 'casosAcumulado','obitosAcumulado', 'Recuperadosnovos' ]\n",
        "                  ].fillna(0)\n",
        "                  \n",
        "fig, ax = plt.subplots(figsize=(12,7))\n",
        "sns.set_style(\"dark\")\n",
        "ax.plot(geral.data, geral.casosAcumulado, linewidth = 1.5, label=\"Casos\")\n",
        "ax.plot(geral.data, geral.obitosAcumulado, linewidth = 2, label='Óbitos')\n",
        "ax.plot(geral.data, geral.Recuperadosnovos, linewidth = 2.3, label='Recuperados', ls=\"--\")\n",
        "plt.grid(False)\n",
        "plt.title('Total Casos, Óbitos e Recuperados', fontsize='19', fontweight ='bold')\n",
        "plt.ylabel('Total', fontsize='18', fontweight ='bold')\n",
        "plt.xlabel('Dia', fontsize='18', fontweight ='bold')\n",
        "ax.xaxis.set_major_locator(MultipleLocator(7)) # colocando o valor do eixo x por semana utilizando as funções importadas\n",
        "fig.autofmt_xdate()\n",
        "plt.legend(frameon=True)\n",
        "plt.tight_layout()"
      ],
      "execution_count": 16,
      "outputs": [
        {
          "output_type": "display_data",
          "data": {
            "image/png": "[encoded data removed]",
            "text/plain": [
              "<Figure size 864x504 with 1 Axes>"
            ]
          },
          "metadata": {
            "tags": []
          }
        }
      ]
    },
    {
      "cell_type": "markdown",
      "metadata": {
        "id": "wZyQz5EgMwN0",
        "colab_type": "text"
      },
      "source": [
        "### Quais os 10 estados com o maior número de casos? \n"
      ]
    },
    {
      "cell_type": "code",
      "metadata": {
        "id": "9u8eDt64mvr5",
        "colab_type": "code",
        "cellView": "both",
        "colab": {
          "base_uri": "https://localhost:8080/",
          "height": 358
        },
        "outputId": "6a6fae55-b26b-436e-c2cc-2dc239915f25"
      },
      "source": [
        "estado_casos = brasil[{'estado', 'municipio', 'codmun', 'casosAcumulado', 'obitosAcumulado' ,'data' }].fillna(9999)\n",
        "estado_casos = estado_casos.loc[(estado_casos.municipio == 9999) & (estado_casos.data == \"2020-07-09\") & (estado_casos.codmun == 9999) & (estado_casos.estado != 9999)]\n",
        "estado_casos = estado_casos[{'estado', 'casosAcumulado'}].sort_values(by=\"casosAcumulado\", ascending=False)[0:11]\n",
        "estado_casos = estado_casos.reset_index(drop=True)\n",
        "estado_casos = estado_casos.shift()[1:]\n",
        "estado_casos = estado_casos.rename(columns= {'estado':'Estado', 'casosAcumulado': 'Total de Casos'})\n",
        "estado_casos = round(estado_casos,8)\n",
        "estado_casos"
      ],
      "execution_count": 18,
      "outputs": [
        {
          "output_type": "execute_result",
          "data": {
            "text/html": [
              "<div>\n",
              "<style scoped>\n",
              "    .dataframe tbody tr th:only-of-type {\n",
              "        vertical-align: middle;\n",
              "    }\n",
              "\n",
              "    .dataframe tbody tr th {\n",
              "        vertical-align: top;\n",
              "    }\n",
              "\n",
              "    .dataframe thead th {\n",
              "        text-align: right;\n",
              "    }\n",
              "</style>\n",
              "<table border=\"1\" class=\"dataframe\">\n",
              "  <thead>\n",
              "    <tr style=\"text-align: right;\">\n",
              "      <th></th>\n",
              "      <th>Total de Casos</th>\n",
              "      <th>Estado</th>\n",
              "    </tr>\n",
              "  </thead>\n",
              "  <tbody>\n",
              "    <tr>\n",
              "      <th>1</th>\n",
              "      <td>349715.0</td>\n",
              "      <td>SP</td>\n",
              "    </tr>\n",
              "    <tr>\n",
              "      <th>2</th>\n",
              "      <td>131000.0</td>\n",
              "      <td>CE</td>\n",
              "    </tr>\n",
              "    <tr>\n",
              "      <th>3</th>\n",
              "      <td>128324.0</td>\n",
              "      <td>RJ</td>\n",
              "    </tr>\n",
              "    <tr>\n",
              "      <th>4</th>\n",
              "      <td>120731.0</td>\n",
              "      <td>PA</td>\n",
              "    </tr>\n",
              "    <tr>\n",
              "      <th>5</th>\n",
              "      <td>98319.0</td>\n",
              "      <td>BA</td>\n",
              "    </tr>\n",
              "    <tr>\n",
              "      <th>6</th>\n",
              "      <td>95323.0</td>\n",
              "      <td>MA</td>\n",
              "    </tr>\n",
              "    <tr>\n",
              "      <th>7</th>\n",
              "      <td>81318.0</td>\n",
              "      <td>AM</td>\n",
              "    </tr>\n",
              "    <tr>\n",
              "      <th>8</th>\n",
              "      <td>68767.0</td>\n",
              "      <td>PE</td>\n",
              "    </tr>\n",
              "    <tr>\n",
              "      <th>9</th>\n",
              "      <td>66864.0</td>\n",
              "      <td>MG</td>\n",
              "    </tr>\n",
              "    <tr>\n",
              "      <th>10</th>\n",
              "      <td>65677.0</td>\n",
              "      <td>DF</td>\n",
              "    </tr>\n",
              "  </tbody>\n",
              "</table>\n",
              "</div>"
            ],
            "text/plain": [
              "    Total de Casos Estado\n",
              "1         349715.0     SP\n",
              "2         131000.0     CE\n",
              "3         128324.0     RJ\n",
              "4         120731.0     PA\n",
              "5          98319.0     BA\n",
              "6          95323.0     MA\n",
              "7          81318.0     AM\n",
              "8          68767.0     PE\n",
              "9          66864.0     MG\n",
              "10         65677.0     DF"
            ]
          },
          "metadata": {
            "tags": []
          },
          "execution_count": 18
        }
      ]
    },
    {
      "cell_type": "markdown",
      "metadata": {
        "id": "1tJPK-wbw8DE",
        "colab_type": "text"
      },
      "source": [
        "### Quais os 10 estados com o maior número de óbitos?"
      ]
    },
    {
      "cell_type": "code",
      "metadata": {
        "id": "KkHYCY8JTiIK",
        "colab_type": "code",
        "colab": {
          "base_uri": "https://localhost:8080/",
          "height": 358
        },
        "outputId": "a72e2d43-f5c0-4f7f-a1dd-d9b10be45006"
      },
      "source": [
        "estado_obt = brasil[{'estado', 'municipio', 'codmun', 'casosAcumulado', 'obitosAcumulado' ,'data' }].fillna(9999)\n",
        "estado_obt = estado_obt.loc[(estado_obt.municipio == 9999) & (estado_obt.data == \"2020-07-09\") & (estado_obt.codmun == 9999) & (estado_obt.estado != 9999)]\n",
        "estado_obt = estado_obt[{'estado', 'obitosAcumulado'}].sort_values(by=\"obitosAcumulado\", ascending=False)[0:11]\n",
        "estado_obt = estado_obt.reset_index(drop=True)\n",
        "estado_obt = estado_obt.shift()[1:]\n",
        "estado_obt = estado_obt.rename(columns= {'estado':'Estado', 'obitosAcumulado': 'Total de Óbitos'})\n",
        "estado_obt = round(estado_obt,8)\n",
        "estado_obt"
      ],
      "execution_count": 19,
      "outputs": [
        {
          "output_type": "execute_result",
          "data": {
            "text/html": [
              "<div>\n",
              "<style scoped>\n",
              "    .dataframe tbody tr th:only-of-type {\n",
              "        vertical-align: middle;\n",
              "    }\n",
              "\n",
              "    .dataframe tbody tr th {\n",
              "        vertical-align: top;\n",
              "    }\n",
              "\n",
              "    .dataframe thead th {\n",
              "        text-align: right;\n",
              "    }\n",
              "</style>\n",
              "<table border=\"1\" class=\"dataframe\">\n",
              "  <thead>\n",
              "    <tr style=\"text-align: right;\">\n",
              "      <th></th>\n",
              "      <th>Total de Óbitos</th>\n",
              "      <th>Estado</th>\n",
              "    </tr>\n",
              "  </thead>\n",
              "  <tbody>\n",
              "    <tr>\n",
              "      <th>1</th>\n",
              "      <td>17118.0</td>\n",
              "      <td>SP</td>\n",
              "    </tr>\n",
              "    <tr>\n",
              "      <th>2</th>\n",
              "      <td>11115.0</td>\n",
              "      <td>RJ</td>\n",
              "    </tr>\n",
              "    <tr>\n",
              "      <th>3</th>\n",
              "      <td>6741.0</td>\n",
              "      <td>CE</td>\n",
              "    </tr>\n",
              "    <tr>\n",
              "      <th>4</th>\n",
              "      <td>5409.0</td>\n",
              "      <td>PE</td>\n",
              "    </tr>\n",
              "    <tr>\n",
              "      <th>5</th>\n",
              "      <td>5196.0</td>\n",
              "      <td>PA</td>\n",
              "    </tr>\n",
              "    <tr>\n",
              "      <th>6</th>\n",
              "      <td>2985.0</td>\n",
              "      <td>AM</td>\n",
              "    </tr>\n",
              "    <tr>\n",
              "      <th>7</th>\n",
              "      <td>2357.0</td>\n",
              "      <td>MA</td>\n",
              "    </tr>\n",
              "    <tr>\n",
              "      <th>8</th>\n",
              "      <td>2328.0</td>\n",
              "      <td>BA</td>\n",
              "    </tr>\n",
              "    <tr>\n",
              "      <th>9</th>\n",
              "      <td>1930.0</td>\n",
              "      <td>ES</td>\n",
              "    </tr>\n",
              "    <tr>\n",
              "      <th>10</th>\n",
              "      <td>1445.0</td>\n",
              "      <td>MG</td>\n",
              "    </tr>\n",
              "  </tbody>\n",
              "</table>\n",
              "</div>"
            ],
            "text/plain": [
              "    Total de Óbitos Estado\n",
              "1           17118.0     SP\n",
              "2           11115.0     RJ\n",
              "3            6741.0     CE\n",
              "4            5409.0     PE\n",
              "5            5196.0     PA\n",
              "6            2985.0     AM\n",
              "7            2357.0     MA\n",
              "8            2328.0     BA\n",
              "9            1930.0     ES\n",
              "10           1445.0     MG"
            ]
          },
          "metadata": {
            "tags": []
          },
          "execution_count": 19
        }
      ]
    },
    {
      "cell_type": "markdown",
      "metadata": {
        "id": "RyOx5I_vzUd9",
        "colab_type": "text"
      },
      "source": [
        "### Mapa de Calor \n",
        "\n",
        "Abaixo, iremos plotar um gráfico de calor onde será perceptível a distribuição do contágio em todo o território brasileiro.  "
      ]
    },
    {
      "cell_type": "code",
      "metadata": {
        "id": "3ypYDtv1L0oq",
        "colab_type": "code",
        "colab": {
          "base_uri": "https://localhost:8080/",
          "height": 257
        },
        "outputId": "af07bb09-e1bf-4f5b-fc91-d26aaf09069d"
      },
      "source": [
        "#Importando o dataframe para plotagem\n",
        "cidades = pd.read_csv('https://raw.githubusercontent.com/wcota/covid19br/master/cases-gps.csv')\n",
        " \n",
        "cidades.head()"
      ],
      "execution_count": 32,
      "outputs": [
        {
          "output_type": "execute_result",
          "data": {
            "text/html": [
              "<div>\n",
              "<style scoped>\n",
              "    .dataframe tbody tr th:only-of-type {\n",
              "        vertical-align: middle;\n",
              "    }\n",
              "\n",
              "    .dataframe tbody tr th {\n",
              "        vertical-align: top;\n",
              "    }\n",
              "\n",
              "    .dataframe thead th {\n",
              "        text-align: right;\n",
              "    }\n",
              "</style>\n",
              "<table border=\"1\" class=\"dataframe\">\n",
              "  <thead>\n",
              "    <tr style=\"text-align: right;\">\n",
              "      <th></th>\n",
              "      <th>type</th>\n",
              "      <th>name</th>\n",
              "      <th>lat</th>\n",
              "      <th>lon</th>\n",
              "      <th>total</th>\n",
              "      <th>total_per_100k_inhabitants</th>\n",
              "    </tr>\n",
              "  </thead>\n",
              "  <tbody>\n",
              "    <tr>\n",
              "      <th>0</th>\n",
              "      <td>1</td>\n",
              "      <td>Abadia de Goiás/GO</td>\n",
              "      <td>-16.757264</td>\n",
              "      <td>-49.441221</td>\n",
              "      <td>84</td>\n",
              "      <td>957.48319</td>\n",
              "    </tr>\n",
              "    <tr>\n",
              "      <th>1</th>\n",
              "      <td>1</td>\n",
              "      <td>Abadia dos Dourados/MG</td>\n",
              "      <td>-18.491119</td>\n",
              "      <td>-47.406359</td>\n",
              "      <td>5</td>\n",
              "      <td>71.54099</td>\n",
              "    </tr>\n",
              "    <tr>\n",
              "      <th>2</th>\n",
              "      <td>1</td>\n",
              "      <td>Abadiânia/GO</td>\n",
              "      <td>-16.194095</td>\n",
              "      <td>-48.706777</td>\n",
              "      <td>65</td>\n",
              "      <td>324.31893</td>\n",
              "    </tr>\n",
              "    <tr>\n",
              "      <th>3</th>\n",
              "      <td>D1</td>\n",
              "      <td>Abadiânia/GO</td>\n",
              "      <td>-16.194095</td>\n",
              "      <td>-48.706777</td>\n",
              "      <td>3</td>\n",
              "      <td>14.96857</td>\n",
              "    </tr>\n",
              "    <tr>\n",
              "      <th>4</th>\n",
              "      <td>1</td>\n",
              "      <td>Abaetetuba/PA</td>\n",
              "      <td>-1.721828</td>\n",
              "      <td>-48.878843</td>\n",
              "      <td>2390</td>\n",
              "      <td>1515.55505</td>\n",
              "    </tr>\n",
              "  </tbody>\n",
              "</table>\n",
              "</div>"
            ],
            "text/plain": [
              "  type                    name  ...  total  total_per_100k_inhabitants\n",
              "0    1      Abadia de Goiás/GO  ...     84                   957.48319\n",
              "1    1  Abadia dos Dourados/MG  ...      5                    71.54099\n",
              "2    1            Abadiânia/GO  ...     65                   324.31893\n",
              "3   D1            Abadiânia/GO  ...      3                    14.96857\n",
              "4    1           Abaetetuba/PA  ...   2390                  1515.55505\n",
              "\n",
              "[5 rows x 6 columns]"
            ]
          },
          "metadata": {
            "tags": []
          },
          "execution_count": 32
        }
      ]
    },
    {
      "cell_type": "code",
      "metadata": {
        "id": "Dmd4ZNJ_5aPR",
        "colab_type": "code",
        "colab": {}
      },
      "source": [
        "#importando as bibliotecas necessárias para plotar uma mapa de calor\n",
        "import folium\n",
        "from folium import plugins"
      ],
      "execution_count": 33,
      "outputs": []
    },
    {
      "cell_type": "code",
      "metadata": {
        "id": "p4FXrxm38Hp3",
        "colab_type": "code",
        "colab": {}
      },
      "source": [
        "# tratando as cordenadas para usar no gráfico\n",
        "cidades = cidades.query('type == \"1\"').copy()\n",
        "coordernadas = cidades [ [ 'lat', 'lon', 'total' ] ]\n",
        "coordernadas = coordernadas.dropna()\n",
        "coordernadas = coordernadas.values.tolist() # passando os valores como uma lista para aceitar no folium"
      ],
      "execution_count": 34,
      "outputs": []
    },
    {
      "cell_type": "code",
      "metadata": {
        "id": "D9jsrHon9D_Y",
        "colab_type": "code",
        "colab": {}
      },
      "source": [
        "# chamando o mapa do brasil usando as coordenadas \n",
        "brasil_map = folium.Map(\n",
        "                  width=\"100%\",\n",
        "                  height=\"100%\",\n",
        "                  location=[-15.788497, -47.879873],\n",
        "                  zoom_start=4.2\n",
        ")\n",
        " \n",
        "#criando o heatmap em cima do mapa padrão criado, acima. \n",
        " \n",
        "brasil_map = brasil_map.add_child(plugins.HeatMap(coordernadas))\n",
        " \n",
        "for i in range(0, len(cidades)): # cursor para atribiur no mapa um círculo com as informações de casos por cidade. \n",
        "  folium.Circle(\n",
        "      location = [ cidades.iloc[i]['lat'], cidades.iloc[i]['lon'] ],\n",
        "      color ='#00FF69',\n",
        "      fill ='#00A1B3',\n",
        "      tooltip ='<li><bold> Cidade: ' + str(cidades.iloc[i]['name'].encode('raw_unicode_escape')) +\n",
        "               '<li><bold> Casos Confirmados: ' + str(cidades.iloc[i]['total']),\n",
        "      radius = 1000.1          \n",
        "      \n",
        " \n",
        " \n",
        "  ).add_to(brasil_map) # adicionando as informações criadas em cima do mapa do brasil.\n",
        " \n",
        "brasil_map # plotando o mapa"
      ],
      "execution_count": null,
      "outputs": []
    },
    {
      "cell_type": "markdown",
      "metadata": {
        "id": "CObi-xOC3j1l",
        "colab_type": "text"
      },
      "source": [
        "## Conclusão\n",
        "\n",
        "O mundo está passando por um momento muito complicado e os **impactos** dessa pandimia são **assustadores** em todos os aspéctos. Neste estudo, foram abordados de forma resumida o cenário no Brasil e no Mundo. \n",
        "\n",
        "Como ainda estamos vivendo esse momento, estes dados ficarão rapidamente obsoletos e não vão refletir a realidade no momento da leitura. \n",
        "\n",
        "Todos os dados explorados aqui tem como referência o dia **09/07/2020**. "
      ]
    }
  ]
}